{
 "cells": [
  {
   "cell_type": "markdown",
   "id": "37a82289",
   "metadata": {},
   "source": [
    "The aim of the notebook is to do the following\n",
    "* Create a graph or use an existing network\n",
    "* Introduce the concept of efficiency\n",
    "* Show how shortest path is related to efficiency\n",
    "* Introduce local and global efficiency\n",
    "* Highlight differences between global and local efficiency \n",
    "* Inferences from the efficiency scores"
   ]
  }
 ],
 "metadata": {
  "kernelspec": {
   "display_name": "Python 3 (ipykernel)",
   "language": "python",
   "name": "python3"
  },
  "language_info": {
   "codemirror_mode": {
    "name": "ipython",
    "version": 3
   },
   "file_extension": ".py",
   "mimetype": "text/x-python",
   "name": "python",
   "nbconvert_exporter": "python",
   "pygments_lexer": "ipython3",
   "version": "3.9.7"
  }
 },
 "nbformat": 4,
 "nbformat_minor": 5
}
